{
  "nbformat": 4,
  "nbformat_minor": 0,
  "metadata": {
    "colab": {
      "provenance": []
    },
    "kernelspec": {
      "name": "python3",
      "display_name": "Python 3"
    },
    "language_info": {
      "name": "python"
    }
  },
  "cells": [
    {
      "cell_type": "markdown",
      "source": [
        "## Setting Up AWS Environment\n",
        "Create S3 Bucket"
      ],
      "metadata": {
        "id": "H9o8HwHjIiQ8"
      }
    },
    {
      "cell_type": "code",
      "execution_count": null,
      "metadata": {
        "id": "3CUyCzrKH8R3"
      },
      "outputs": [],
      "source": [
        "import boto3\n",
        "\n",
        "s3 = boto3.client('s3')\n",
        "bucket_name = 'customer-segmentation-bucket'\n",
        "region = 'us-west-2'\n",
        "\n",
        "s3.create_bucket(Bucket=bucket_name, CreateBucketConfiguration={'LocationConstraint': region})\n",
        "print(f'Bucket {bucket_name} created.')\n"
      ]
    },
    {
      "cell_type": "markdown",
      "source": [
        "## Data Preparation\n",
        "Load and Preprocess Data"
      ],
      "metadata": {
        "id": "OsSUG48sIpjm"
      }
    },
    {
      "cell_type": "code",
      "source": [
        "import pandas as pd\n",
        "\n",
        "# Load data\n",
        "data = pd.read_csv('path/to/your/customer_data.csv')\n",
        "\n",
        "# Preprocess data (example)\n",
        "# Assume data needs normalization and handling missing values\n",
        "data = data.dropna()\n",
        "data = (data - data.mean()) / data.std()\n",
        "\n",
        "# Save the preprocessed data to S3\n",
        "data.to_csv('preprocessed_customer_data.csv', index=False)\n",
        "s3.upload_file('preprocessed_customer_data.csv', bucket_name, 'preprocessed_customer_data.csv')\n",
        "print('Data uploaded to S3.')\n"
      ],
      "metadata": {
        "id": "LSSvtbxnIDrS"
      },
      "execution_count": null,
      "outputs": []
    },
    {
      "cell_type": "markdown",
      "source": [
        "## Model Training\n",
        "Train K-means Model with SageMaker"
      ],
      "metadata": {
        "id": "ElwMZj96ItNu"
      }
    },
    {
      "cell_type": "code",
      "source": [
        "import sagemaker\n",
        "from sagemaker import get_execution_role\n",
        "from sagemaker.amazon.amazon_estimator import get_image_uri\n",
        "\n",
        "role = get_execution_role()\n",
        "container = get_image_uri(region, 'kmeans')\n",
        "\n",
        "# Set up the estimator\n",
        "kmeans = sagemaker.estimator.Estimator(container,\n",
        "                                       role,\n",
        "                                       instance_count=1,\n",
        "                                       instance_type='ml.m4.xlarge',\n",
        "                                       output_path=f's3://{bucket_name}/output')\n",
        "\n",
        "# Set hyperparameters\n",
        "kmeans.set_hyperparameters(k=5,  # number of clusters\n",
        "                           feature_dim=10,  # number of features\n",
        "                           mini_batch_size=100)\n",
        "\n",
        "# Fit the model\n",
        "train_data = sagemaker.inputs.TrainingInput(s3_data=f's3://{bucket_name}/preprocessed_customer_data.csv', content_type='csv')\n",
        "kmeans.fit({'train': train_data})\n"
      ],
      "metadata": {
        "id": "YXzKokE4IGij"
      },
      "execution_count": null,
      "outputs": []
    },
    {
      "cell_type": "markdown",
      "source": [
        "## Model Deployment\n",
        "Deploy the Trained Model"
      ],
      "metadata": {
        "id": "XZ0qHLUkI1G6"
      }
    },
    {
      "cell_type": "code",
      "source": [
        "kmeans_predictor = kmeans.deploy(initial_instance_count=1, instance_type='ml.m3.xlarge')\n"
      ],
      "metadata": {
        "id": "Ru-FbJpwIRN_"
      },
      "execution_count": null,
      "outputs": []
    },
    {
      "cell_type": "markdown",
      "source": [
        "## Prediction and Evaluation\n",
        "Make Predictions"
      ],
      "metadata": {
        "id": "On-f2K94JWDn"
      }
    },
    {
      "cell_type": "code",
      "source": [
        "import numpy as np\n",
        "\n",
        "# Sample data for prediction\n",
        "sample_data = np.array([[0.5, 0.3, ...], [0.2, 0.8, ...]])  # replace with actual data\n",
        "\n",
        "# Predict\n",
        "predictions = kmeans_predictor.predict(sample_data)\n",
        "print(predictions)\n"
      ],
      "metadata": {
        "id": "R0io5PiBITN9"
      },
      "execution_count": null,
      "outputs": []
    },
    {
      "cell_type": "markdown",
      "source": [
        "## Automation and Monitoring\n",
        "Set Up AWS Lambda for Automation"
      ],
      "metadata": {
        "id": "hbtbxrjxJa1_"
      }
    },
    {
      "cell_type": "code",
      "source": [
        "import json\n",
        "import boto3\n",
        "\n",
        "lambda_client = boto3.client('lambda')\n",
        "\n",
        "lambda_function_code = '''\n",
        "import json\n",
        "import boto3\n",
        "\n",
        "def lambda_handler(event, context):\n",
        "    sagemaker = boto3.client('sagemaker-runtime')\n",
        "    response = sagemaker.invoke_endpoint(\n",
        "        EndpointName='your-endpoint-name',\n",
        "        Body=json.dumps(event['data']),\n",
        "        ContentType='application/json'\n",
        "    )\n",
        "    result = json.loads(response['Body'].read().decode())\n",
        "    return {\n",
        "        'statusCode': 200,\n",
        "        'body': json.dumps(result)\n",
        "    }\n",
        "'''\n",
        "\n",
        "response = lambda_client.create_function(\n",
        "    FunctionName='CustomerSegmentationLambda',\n",
        "    Runtime='python3.8',\n",
        "    Role='arn:aws:iam::your-account-id:role/your-lambda-role',\n",
        "    Handler='lambda_function.lambda_handler',\n",
        "    Code={'ZipFile': lambda_function_code}\n",
        ")\n",
        "\n",
        "print(response)\n"
      ],
      "metadata": {
        "id": "XH-rIxB_IU0v"
      },
      "execution_count": null,
      "outputs": []
    }
  ]
}